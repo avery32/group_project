{
  "nbformat": 4,
  "nbformat_minor": 0,
  "metadata": {
    "colab": {
      "provenance": [],
      "toc_visible": true,
      "authorship_tag": "ABX9TyP3PlN1nWa5Tw4GLaQ+NxN3",
      "include_colab_link": true
    },
    "kernelspec": {
      "name": "python3",
      "display_name": "Python 3"
    },
    "language_info": {
      "name": "python"
    }
  },
  "cells": [
    {
      "cell_type": "markdown",
      "metadata": {
        "id": "view-in-github",
        "colab_type": "text"
      },
      "source": [
        "<a href=\"https://colab.research.google.com/github/avery32/group_project/blob/main/logisticregressionufo.ipynb\" target=\"_parent\"><img src=\"https://colab.research.google.com/assets/colab-badge.svg\" alt=\"Open In Colab\"/></a>"
      ]
    },
    {
      "cell_type": "code",
      "execution_count": null,
      "metadata": {
        "colab": {
          "base_uri": "https://localhost:8080/"
        },
        "id": "cf7ErEUQeYU9",
        "outputId": "b50dc347-a447-4f75-abe8-2b19690cace9"
      },
      "outputs": [
        {
          "output_type": "stream",
          "name": "stdout",
          "text": [
            "Index(['datetime', 'city', 'country', 'shape', 'duration (seconds)',\n",
            "       'date posted', 'latitude', 'longitude ', 'month', 'year', 'month_num',\n",
            "       'log_duration', 'date'],\n",
            "      dtype='object')\n"
          ]
        }
      ],
      "source": [
        "import pandas as pd\n",
        "\n",
        "# Load your CSV file\n",
        "df = pd.read_csv('/content/ufo_clean_data.csv')\n",
        "\n",
        "# Check column names and identify the column containing date and time information\n",
        "print(df.columns)  # Print the column names of your dataframe\n",
        "# If you see a column representing datetime, replace 'date_time_column' with the actual column name below\n",
        "# otherwise rename the column that has the date/time information\n",
        "df['datetime'] = pd.to_datetime(df['datetime']) # Assuming the datetime column is named 'date_time_column'\n",
        "\n",
        "# Add new numerical columns\n",
        "df['hour'] = df['datetime'].dt.hour\n",
        "df['dayofweek'] = df['datetime'].dt.dayofweek\n",
        "df['year'] = df['datetime'].dt.year\n",
        "df['month'] = df['datetime'].dt.month\n",
        "\n",
        "# Now drop the original datetime\n",
        "df = df.drop(columns=['datetime'])\n"
      ]
    },
    {
      "cell_type": "code",
      "source": [
        "# Step 1: Create your binary target column\n",
        "df['is_us'] = (df['country'] == 'US').astype(int)\n",
        "\n",
        "# Step 2: Define features — only numeric and one-hot shape columns\n",
        "feature_cols = ['duration (seconds)', 'month_num', 'log_duration', 'latitude', 'longitude '] + \\\n",
        "               [col for col in df.columns if col.startswith('shape_')]\n",
        "\n",
        "# Step 3: Create X and y\n",
        "X = df[feature_cols]\n",
        "y = df['is_us']\n",
        "\n",
        "# Step 4: Train-test split\n",
        "from sklearn.model_selection import train_test_split\n",
        "from sklearn.linear_model import LogisticRegression\n",
        "from sklearn.metrics import classification_report\n",
        "\n",
        "X_train, X_test, y_train, y_test = train_test_split(X, y, test_size=0.2, random_state=42)\n",
        "\n",
        "# Step 5: Fit the model\n",
        "model = LogisticRegression(max_iter=1000)\n",
        "model.fit(X_train, y_train)\n",
        "\n",
        "# Step 6: Evaluate\n",
        "y_pred = model.predict(X_test)\n",
        "print(classification_report(y_test, y_pred))\n",
        "\n"
      ],
      "metadata": {
        "colab": {
          "base_uri": "https://localhost:8080/"
        },
        "id": "isPs7CKdenHX",
        "outputId": "08151fbd-44c3-421e-d54c-03491aef26cb"
      },
      "execution_count": null,
      "outputs": [
        {
          "output_type": "stream",
          "name": "stdout",
          "text": [
            "              precision    recall  f1-score   support\n",
            "\n",
            "           0       1.00      0.48      0.65      1132\n",
            "           1       0.96      1.00      0.98     12669\n",
            "\n",
            "    accuracy                           0.96     13801\n",
            "   macro avg       0.98      0.74      0.81     13801\n",
            "weighted avg       0.96      0.96      0.95     13801\n",
            "\n"
          ]
        }
      ]
    },
    {
      "cell_type": "code",
      "source": [
        "# Get feature names and coefficients\n",
        "coefficients = pd.DataFrame({\n",
        "    'Feature': X.columns,\n",
        "    'Coefficient': model.coef_[0]\n",
        "})\n",
        "print(coefficients.sort_values(by='Coefficient', ascending=False))\n"
      ],
      "metadata": {
        "colab": {
          "base_uri": "https://localhost:8080/"
        },
        "id": "vCH22AaHgmxL",
        "outputId": "17e0f693-3a02-45a7-e175-966c9c452e15"
      },
      "execution_count": null,
      "outputs": [
        {
          "output_type": "stream",
          "name": "stdout",
          "text": [
            "              Feature   Coefficient\n",
            "2        log_duration  7.832951e-02\n",
            "1           month_num  2.327309e-02\n",
            "0  duration (seconds) -5.522964e-08\n",
            "4          longitude  -1.012538e-01\n",
            "3            latitude -2.554760e-01\n"
          ]
        }
      ]
    },
    {
      "cell_type": "code",
      "source": [
        "from sklearn.metrics import confusion_matrix\n",
        "import seaborn as sns\n",
        "import matplotlib.pyplot as plt\n",
        "\n",
        "cm = confusion_matrix(y_test, y_pred)\n",
        "sns.heatmap(cm, annot=True, fmt='d', cmap='Blues')\n",
        "plt.xlabel('Predicted')\n",
        "plt.ylabel('Actual')\n",
        "plt.title('Confusion Matrix')\n",
        "plt.show()\n"
      ],
      "metadata": {
        "id": "BvAf67VSgx7N",
        "outputId": "476b7c60-48b9-45a8-ca6b-73273c40ba7f",
        "colab": {
          "base_uri": "https://localhost:8080/",
          "height": 472
        }
      },
      "execution_count": null,
      "outputs": [
        {
          "output_type": "display_data",
          "data": {
            "text/plain": [
              "<Figure size 640x480 with 2 Axes>"
            ],
            "image/png": "[encoded data removed]"
          },
          "metadata": {}
        }
      ]
    }
  ]
}