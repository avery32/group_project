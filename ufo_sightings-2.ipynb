{
 "cells": [
  {
   "cell_type": "markdown",
   "id": "2471b59b-1cda-43a2-9a15-3ca70d113d01",
   "metadata": {},
   "source": [
    "# UFO Sightings Project Wrangling/EDA and Write-up #"
   ]
  },
  {
   "cell_type": "markdown",
   "id": "8e63b2d5-4f74-4d33-b707-5cb2dcf2c54e",
   "metadata": {},
   "source": [
    "Zoe Gates, Avery Anderson, Katrina Garcia"
   ]
  },
  {
   "cell_type": "code",
   "execution_count": 3,
   "id": "c7ba3b7d-4e4a-43e2-8f7a-de30b0111e19",
   "metadata": {},
   "outputs": [],
   "source": [
    "#importing necessary packages to wrangle data and run EDA\n",
    "import pandas as pd\n",
    "import numpy as np\n",
    "import matplotlib.pyplot as plt\n",
    "import seaborn as sns"
   ]
  },
  {
   "cell_type": "code",
   "execution_count": 4,
   "id": "5ff12950-930e-4820-9c4a-fbc85d93dc23",
   "metadata": {},
   "outputs": [
    {
     "data": {
      "text/html": [
       "<div>\n",
       "<style scoped>\n",
       "    .dataframe tbody tr th:only-of-type {\n",
       "        vertical-align: middle;\n",
       "    }\n",
       "\n",
       "    .dataframe tbody tr th {\n",
       "        vertical-align: top;\n",
       "    }\n",
       "\n",
       "    .dataframe thead th {\n",
       "        text-align: right;\n",
       "    }\n",
       "</style>\n",
       "<table border=\"1\" class=\"dataframe\">\n",
       "  <thead>\n",
       "    <tr style=\"text-align: right;\">\n",
       "      <th></th>\n",
       "      <th>datetime</th>\n",
       "      <th>city</th>\n",
       "      <th>state</th>\n",
       "      <th>country</th>\n",
       "      <th>shape</th>\n",
       "      <th>duration (seconds)</th>\n",
       "      <th>duration (hours/min)</th>\n",
       "      <th>comments</th>\n",
       "      <th>date posted</th>\n",
       "      <th>latitude</th>\n",
       "      <th>longitude</th>\n",
       "    </tr>\n",
       "  </thead>\n",
       "  <tbody>\n",
       "    <tr>\n",
       "      <th>0</th>\n",
       "      <td>1949-10-10 20:30:00</td>\n",
       "      <td>san marcos</td>\n",
       "      <td>tx</td>\n",
       "      <td>us</td>\n",
       "      <td>cylinder</td>\n",
       "      <td>2700</td>\n",
       "      <td>45 minutes</td>\n",
       "      <td>This event took place in early fall around 194...</td>\n",
       "      <td>2004-04-27</td>\n",
       "      <td>29.8830556</td>\n",
       "      <td>-97.941111</td>\n",
       "    </tr>\n",
       "    <tr>\n",
       "      <th>1</th>\n",
       "      <td>1949-10-10 21:00:00</td>\n",
       "      <td>lackland afb</td>\n",
       "      <td>tx</td>\n",
       "      <td>NaN</td>\n",
       "      <td>light</td>\n",
       "      <td>7200</td>\n",
       "      <td>1-2 hrs</td>\n",
       "      <td>1949 Lackland AFB&amp;#44 TX.  Lights racing acros...</td>\n",
       "      <td>2005-12-16</td>\n",
       "      <td>29.38421</td>\n",
       "      <td>-98.581082</td>\n",
       "    </tr>\n",
       "    <tr>\n",
       "      <th>2</th>\n",
       "      <td>1955-10-10 17:00:00</td>\n",
       "      <td>chester (uk/england)</td>\n",
       "      <td>NaN</td>\n",
       "      <td>gb</td>\n",
       "      <td>circle</td>\n",
       "      <td>20</td>\n",
       "      <td>20 seconds</td>\n",
       "      <td>Green/Orange circular disc over Chester&amp;#44 En...</td>\n",
       "      <td>2008-01-21</td>\n",
       "      <td>53.2</td>\n",
       "      <td>-2.916667</td>\n",
       "    </tr>\n",
       "    <tr>\n",
       "      <th>3</th>\n",
       "      <td>1956-10-10 21:00:00</td>\n",
       "      <td>edna</td>\n",
       "      <td>tx</td>\n",
       "      <td>us</td>\n",
       "      <td>circle</td>\n",
       "      <td>20</td>\n",
       "      <td>1/2 hour</td>\n",
       "      <td>My older brother and twin sister were leaving ...</td>\n",
       "      <td>2004-01-17</td>\n",
       "      <td>28.9783333</td>\n",
       "      <td>-96.645833</td>\n",
       "    </tr>\n",
       "    <tr>\n",
       "      <th>4</th>\n",
       "      <td>1960-10-10 20:00:00</td>\n",
       "      <td>kaneohe</td>\n",
       "      <td>hi</td>\n",
       "      <td>us</td>\n",
       "      <td>light</td>\n",
       "      <td>900</td>\n",
       "      <td>15 minutes</td>\n",
       "      <td>AS a Marine 1st Lt. flying an FJ4B fighter/att...</td>\n",
       "      <td>2004-01-22</td>\n",
       "      <td>21.4180556</td>\n",
       "      <td>-157.803611</td>\n",
       "    </tr>\n",
       "  </tbody>\n",
       "</table>\n",
       "</div>"
      ],
      "text/plain": [
       "              datetime                  city state country     shape  \\\n",
       "0  1949-10-10 20:30:00            san marcos    tx      us  cylinder   \n",
       "1  1949-10-10 21:00:00          lackland afb    tx     NaN     light   \n",
       "2  1955-10-10 17:00:00  chester (uk/england)   NaN      gb    circle   \n",
       "3  1956-10-10 21:00:00                  edna    tx      us    circle   \n",
       "4  1960-10-10 20:00:00               kaneohe    hi      us     light   \n",
       "\n",
       "  duration (seconds) duration (hours/min)  \\\n",
       "0               2700           45 minutes   \n",
       "1               7200              1-2 hrs   \n",
       "2                 20           20 seconds   \n",
       "3                 20             1/2 hour   \n",
       "4                900           15 minutes   \n",
       "\n",
       "                                            comments date posted    latitude  \\\n",
       "0  This event took place in early fall around 194...  2004-04-27  29.8830556   \n",
       "1  1949 Lackland AFB&#44 TX.  Lights racing acros...  2005-12-16    29.38421   \n",
       "2  Green/Orange circular disc over Chester&#44 En...  2008-01-21        53.2   \n",
       "3  My older brother and twin sister were leaving ...  2004-01-17  28.9783333   \n",
       "4  AS a Marine 1st Lt. flying an FJ4B fighter/att...  2004-01-22  21.4180556   \n",
       "\n",
       "   longitude   \n",
       "0  -97.941111  \n",
       "1  -98.581082  \n",
       "2   -2.916667  \n",
       "3  -96.645833  \n",
       "4 -157.803611  "
      ]
     },
     "execution_count": 4,
     "metadata": {},
     "output_type": "execute_result"
    }
   ],
   "source": [
    "ufo= pd.read_csv(\"https://raw.githubusercontent.com/avery32/group_project/refs/heads/main/ufo_sightings_scrubbed.csv\", low_memory=False) #Uploading the dataframe\n",
    "ufo.head() #Checking that it came through"
   ]
  },
  {
   "cell_type": "code",
   "execution_count": 5,
   "id": "265885dd-6530-437b-b281-7af5567702ea",
   "metadata": {},
   "outputs": [
    {
     "data": {
      "text/plain": [
       "duration (hours/min)\n",
       "5 minutes         4716\n",
       "2 minutes         3500\n",
       "10 minutes        3322\n",
       "1 minute          3061\n",
       "3 minutes         2517\n",
       "                  ... \n",
       "appx. 45 mins.       1\n",
       "8:00 to 9:30         1\n",
       "5 munutes            1\n",
       "15-25sec.            1\n",
       "~1hr+                1\n",
       "Name: count, Length: 8304, dtype: int64"
      ]
     },
     "execution_count": 5,
     "metadata": {},
     "output_type": "execute_result"
    }
   ],
   "source": [
    "ufo['duration (hours/min)'].value_counts() #Examining the duration hours/min column because it seems so variable at first glance"
   ]
  },
  {
   "cell_type": "code",
   "execution_count": 6,
   "id": "66c6927f-555e-476e-a2e5-1b2db23e3cdb",
   "metadata": {},
   "outputs": [
    {
     "data": {
      "text/html": [
       "<div>\n",
       "<style scoped>\n",
       "    .dataframe tbody tr th:only-of-type {\n",
       "        vertical-align: middle;\n",
       "    }\n",
       "\n",
       "    .dataframe tbody tr th {\n",
       "        vertical-align: top;\n",
       "    }\n",
       "\n",
       "    .dataframe thead th {\n",
       "        text-align: right;\n",
       "    }\n",
       "</style>\n",
       "<table border=\"1\" class=\"dataframe\">\n",
       "  <thead>\n",
       "    <tr style=\"text-align: right;\">\n",
       "      <th></th>\n",
       "      <th>datetime</th>\n",
       "      <th>city</th>\n",
       "      <th>state</th>\n",
       "      <th>country</th>\n",
       "      <th>shape</th>\n",
       "      <th>duration (seconds)</th>\n",
       "      <th>comments</th>\n",
       "      <th>date posted</th>\n",
       "      <th>latitude</th>\n",
       "      <th>longitude</th>\n",
       "    </tr>\n",
       "  </thead>\n",
       "  <tbody>\n",
       "    <tr>\n",
       "      <th>0</th>\n",
       "      <td>1949-10-10 20:30:00</td>\n",
       "      <td>san marcos</td>\n",
       "      <td>tx</td>\n",
       "      <td>us</td>\n",
       "      <td>cylinder</td>\n",
       "      <td>2700</td>\n",
       "      <td>This event took place in early fall around 194...</td>\n",
       "      <td>2004-04-27</td>\n",
       "      <td>29.8830556</td>\n",
       "      <td>-97.941111</td>\n",
       "    </tr>\n",
       "    <tr>\n",
       "      <th>1</th>\n",
       "      <td>1949-10-10 21:00:00</td>\n",
       "      <td>lackland afb</td>\n",
       "      <td>tx</td>\n",
       "      <td>NaN</td>\n",
       "      <td>light</td>\n",
       "      <td>7200</td>\n",
       "      <td>1949 Lackland AFB&amp;#44 TX.  Lights racing acros...</td>\n",
       "      <td>2005-12-16</td>\n",
       "      <td>29.38421</td>\n",
       "      <td>-98.581082</td>\n",
       "    </tr>\n",
       "  </tbody>\n",
       "</table>\n",
       "</div>"
      ],
      "text/plain": [
       "              datetime          city state country     shape  \\\n",
       "0  1949-10-10 20:30:00    san marcos    tx      us  cylinder   \n",
       "1  1949-10-10 21:00:00  lackland afb    tx     NaN     light   \n",
       "\n",
       "  duration (seconds)                                           comments  \\\n",
       "0               2700  This event took place in early fall around 194...   \n",
       "1               7200  1949 Lackland AFB&#44 TX.  Lights racing acros...   \n",
       "\n",
       "  date posted    latitude  longitude   \n",
       "0  2004-04-27  29.8830556  -97.941111  \n",
       "1  2005-12-16    29.38421  -98.581082  "
      ]
     },
     "execution_count": 6,
     "metadata": {},
     "output_type": "execute_result"
    }
   ],
   "source": [
    "ufo = ufo.drop(columns=['duration (hours/min)']) #Dropping this column because we already have a consistent duration column, duration (seconds)\n",
    "ufo.head(2) #Checking that this was successful"
   ]
  },
  {
   "cell_type": "code",
   "execution_count": 7,
   "id": "6fccfeb4-7cf2-474d-8618-794ed88315db",
   "metadata": {},
   "outputs": [
    {
     "data": {
      "text/plain": [
       "datetime               object\n",
       "city                   object\n",
       "state                  object\n",
       "country                object\n",
       "shape                  object\n",
       "duration (seconds)     object\n",
       "comments               object\n",
       "date posted            object\n",
       "latitude               object\n",
       "longitude             float64\n",
       "dtype: object"
      ]
     },
     "execution_count": 7,
     "metadata": {},
     "output_type": "execute_result"
    }
   ],
   "source": [
    "ufo.dtypes"
   ]
  },
  {
   "cell_type": "code",
   "execution_count": 8,
   "id": "cb25be92-6ecd-447b-8a4f-d90d5451dd41",
   "metadata": {},
   "outputs": [],
   "source": [
    "ufo['datetime'] = pd.to_datetime(ufo['datetime']) #Casting to datetime\n",
    "ufo['month'] = ufo['datetime'].dt.to_period('M') #Extracting just month/year into a month column"
   ]
  },
  {
   "cell_type": "code",
   "execution_count": 9,
   "id": "137464eb-a1d8-4863-9a43-c223a40de087",
   "metadata": {},
   "outputs": [
    {
     "data": {
      "text/plain": [
       "datetime              datetime64[ns]\n",
       "city                          object\n",
       "state                         object\n",
       "country                       object\n",
       "shape                         object\n",
       "duration (seconds)            object\n",
       "comments                      object\n",
       "date posted                   object\n",
       "latitude                      object\n",
       "longitude                    float64\n",
       "month                      period[M]\n",
       "dtype: object"
      ]
     },
     "execution_count": 9,
     "metadata": {},
     "output_type": "execute_result"
    }
   ],
   "source": [
    "ufo.dtypes #Checking the datatypes at this point"
   ]
  },
  {
   "cell_type": "code",
   "execution_count": 10,
   "id": "0c001dc4-fe91-4620-af93-423702fd697d",
   "metadata": {},
   "outputs": [],
   "source": [
    "ufo['year'] = ufo['month'].dt.year #Splitting year off into separate column\n",
    "ufo['month_num'] = ufo['month'].dt.month #Splitting month off into separate column"
   ]
  },
  {
   "cell_type": "code",
   "execution_count": 11,
   "id": "da4d43ef-f93d-42e3-aeca-c95bae7b7cf5",
   "metadata": {},
   "outputs": [
    {
     "data": {
      "text/html": [
       "<div>\n",
       "<style scoped>\n",
       "    .dataframe tbody tr th:only-of-type {\n",
       "        vertical-align: middle;\n",
       "    }\n",
       "\n",
       "    .dataframe tbody tr th {\n",
       "        vertical-align: top;\n",
       "    }\n",
       "\n",
       "    .dataframe thead th {\n",
       "        text-align: right;\n",
       "    }\n",
       "</style>\n",
       "<table border=\"1\" class=\"dataframe\">\n",
       "  <thead>\n",
       "    <tr style=\"text-align: right;\">\n",
       "      <th></th>\n",
       "      <th>datetime</th>\n",
       "      <th>city</th>\n",
       "      <th>state</th>\n",
       "      <th>country</th>\n",
       "      <th>shape</th>\n",
       "      <th>duration (seconds)</th>\n",
       "      <th>comments</th>\n",
       "      <th>date posted</th>\n",
       "      <th>latitude</th>\n",
       "      <th>longitude</th>\n",
       "      <th>month</th>\n",
       "      <th>year</th>\n",
       "      <th>month_num</th>\n",
       "    </tr>\n",
       "  </thead>\n",
       "  <tbody>\n",
       "    <tr>\n",
       "      <th>0</th>\n",
       "      <td>1949-10-10 20:30:00</td>\n",
       "      <td>san marcos</td>\n",
       "      <td>tx</td>\n",
       "      <td>us</td>\n",
       "      <td>cylinder</td>\n",
       "      <td>2700</td>\n",
       "      <td>This event took place in early fall around 194...</td>\n",
       "      <td>2004-04-27</td>\n",
       "      <td>29.8830556</td>\n",
       "      <td>-97.941111</td>\n",
       "      <td>1949-10</td>\n",
       "      <td>1949</td>\n",
       "      <td>10</td>\n",
       "    </tr>\n",
       "    <tr>\n",
       "      <th>1</th>\n",
       "      <td>1949-10-10 21:00:00</td>\n",
       "      <td>lackland afb</td>\n",
       "      <td>tx</td>\n",
       "      <td>NaN</td>\n",
       "      <td>light</td>\n",
       "      <td>7200</td>\n",
       "      <td>1949 Lackland AFB&amp;#44 TX.  Lights racing acros...</td>\n",
       "      <td>2005-12-16</td>\n",
       "      <td>29.38421</td>\n",
       "      <td>-98.581082</td>\n",
       "      <td>1949-10</td>\n",
       "      <td>1949</td>\n",
       "      <td>10</td>\n",
       "    </tr>\n",
       "    <tr>\n",
       "      <th>2</th>\n",
       "      <td>1955-10-10 17:00:00</td>\n",
       "      <td>chester (uk/england)</td>\n",
       "      <td>NaN</td>\n",
       "      <td>gb</td>\n",
       "      <td>circle</td>\n",
       "      <td>20</td>\n",
       "      <td>Green/Orange circular disc over Chester&amp;#44 En...</td>\n",
       "      <td>2008-01-21</td>\n",
       "      <td>53.2</td>\n",
       "      <td>-2.916667</td>\n",
       "      <td>1955-10</td>\n",
       "      <td>1955</td>\n",
       "      <td>10</td>\n",
       "    </tr>\n",
       "    <tr>\n",
       "      <th>3</th>\n",
       "      <td>1956-10-10 21:00:00</td>\n",
       "      <td>edna</td>\n",
       "      <td>tx</td>\n",
       "      <td>us</td>\n",
       "      <td>circle</td>\n",
       "      <td>20</td>\n",
       "      <td>My older brother and twin sister were leaving ...</td>\n",
       "      <td>2004-01-17</td>\n",
       "      <td>28.9783333</td>\n",
       "      <td>-96.645833</td>\n",
       "      <td>1956-10</td>\n",
       "      <td>1956</td>\n",
       "      <td>10</td>\n",
       "    </tr>\n",
       "    <tr>\n",
       "      <th>4</th>\n",
       "      <td>1960-10-10 20:00:00</td>\n",
       "      <td>kaneohe</td>\n",
       "      <td>hi</td>\n",
       "      <td>us</td>\n",
       "      <td>light</td>\n",
       "      <td>900</td>\n",
       "      <td>AS a Marine 1st Lt. flying an FJ4B fighter/att...</td>\n",
       "      <td>2004-01-22</td>\n",
       "      <td>21.4180556</td>\n",
       "      <td>-157.803611</td>\n",
       "      <td>1960-10</td>\n",
       "      <td>1960</td>\n",
       "      <td>10</td>\n",
       "    </tr>\n",
       "    <tr>\n",
       "      <th>...</th>\n",
       "      <td>...</td>\n",
       "      <td>...</td>\n",
       "      <td>...</td>\n",
       "      <td>...</td>\n",
       "      <td>...</td>\n",
       "      <td>...</td>\n",
       "      <td>...</td>\n",
       "      <td>...</td>\n",
       "      <td>...</td>\n",
       "      <td>...</td>\n",
       "      <td>...</td>\n",
       "      <td>...</td>\n",
       "      <td>...</td>\n",
       "    </tr>\n",
       "    <tr>\n",
       "      <th>80327</th>\n",
       "      <td>2013-09-09 21:15:00</td>\n",
       "      <td>nashville</td>\n",
       "      <td>tn</td>\n",
       "      <td>us</td>\n",
       "      <td>light</td>\n",
       "      <td>600</td>\n",
       "      <td>Round from the distance/slowly changing colors...</td>\n",
       "      <td>2013-09-30</td>\n",
       "      <td>36.1658333</td>\n",
       "      <td>-86.784444</td>\n",
       "      <td>2013-09</td>\n",
       "      <td>2013</td>\n",
       "      <td>9</td>\n",
       "    </tr>\n",
       "    <tr>\n",
       "      <th>80328</th>\n",
       "      <td>2013-09-09 22:00:00</td>\n",
       "      <td>boise</td>\n",
       "      <td>id</td>\n",
       "      <td>us</td>\n",
       "      <td>circle</td>\n",
       "      <td>1200</td>\n",
       "      <td>Boise&amp;#44 ID&amp;#44 spherical&amp;#44 20 min&amp;#44 10 r...</td>\n",
       "      <td>2013-09-30</td>\n",
       "      <td>43.6136111</td>\n",
       "      <td>-116.202500</td>\n",
       "      <td>2013-09</td>\n",
       "      <td>2013</td>\n",
       "      <td>9</td>\n",
       "    </tr>\n",
       "    <tr>\n",
       "      <th>80329</th>\n",
       "      <td>2013-09-09 22:00:00</td>\n",
       "      <td>napa</td>\n",
       "      <td>ca</td>\n",
       "      <td>us</td>\n",
       "      <td>other</td>\n",
       "      <td>1200</td>\n",
       "      <td>Napa UFO&amp;#44</td>\n",
       "      <td>2013-09-30</td>\n",
       "      <td>38.2972222</td>\n",
       "      <td>-122.284444</td>\n",
       "      <td>2013-09</td>\n",
       "      <td>2013</td>\n",
       "      <td>9</td>\n",
       "    </tr>\n",
       "    <tr>\n",
       "      <th>80330</th>\n",
       "      <td>2013-09-09 22:20:00</td>\n",
       "      <td>vienna</td>\n",
       "      <td>va</td>\n",
       "      <td>us</td>\n",
       "      <td>circle</td>\n",
       "      <td>5</td>\n",
       "      <td>Saw a five gold lit cicular craft moving fastl...</td>\n",
       "      <td>2013-09-30</td>\n",
       "      <td>38.9011111</td>\n",
       "      <td>-77.265556</td>\n",
       "      <td>2013-09</td>\n",
       "      <td>2013</td>\n",
       "      <td>9</td>\n",
       "    </tr>\n",
       "    <tr>\n",
       "      <th>80331</th>\n",
       "      <td>2013-09-09 23:00:00</td>\n",
       "      <td>edmond</td>\n",
       "      <td>ok</td>\n",
       "      <td>us</td>\n",
       "      <td>cigar</td>\n",
       "      <td>1020</td>\n",
       "      <td>2 witnesses 2  miles apart&amp;#44 Red &amp;amp; White...</td>\n",
       "      <td>2013-09-30</td>\n",
       "      <td>35.6527778</td>\n",
       "      <td>-97.477778</td>\n",
       "      <td>2013-09</td>\n",
       "      <td>2013</td>\n",
       "      <td>9</td>\n",
       "    </tr>\n",
       "  </tbody>\n",
       "</table>\n",
       "<p>80332 rows × 13 columns</p>\n",
       "</div>"
      ],
      "text/plain": [
       "                 datetime                  city state country     shape  \\\n",
       "0     1949-10-10 20:30:00            san marcos    tx      us  cylinder   \n",
       "1     1949-10-10 21:00:00          lackland afb    tx     NaN     light   \n",
       "2     1955-10-10 17:00:00  chester (uk/england)   NaN      gb    circle   \n",
       "3     1956-10-10 21:00:00                  edna    tx      us    circle   \n",
       "4     1960-10-10 20:00:00               kaneohe    hi      us     light   \n",
       "...                   ...                   ...   ...     ...       ...   \n",
       "80327 2013-09-09 21:15:00             nashville    tn      us     light   \n",
       "80328 2013-09-09 22:00:00                 boise    id      us    circle   \n",
       "80329 2013-09-09 22:00:00                  napa    ca      us     other   \n",
       "80330 2013-09-09 22:20:00                vienna    va      us    circle   \n",
       "80331 2013-09-09 23:00:00                edmond    ok      us     cigar   \n",
       "\n",
       "      duration (seconds)                                           comments  \\\n",
       "0                   2700  This event took place in early fall around 194...   \n",
       "1                   7200  1949 Lackland AFB&#44 TX.  Lights racing acros...   \n",
       "2                     20  Green/Orange circular disc over Chester&#44 En...   \n",
       "3                     20  My older brother and twin sister were leaving ...   \n",
       "4                    900  AS a Marine 1st Lt. flying an FJ4B fighter/att...   \n",
       "...                  ...                                                ...   \n",
       "80327                600  Round from the distance/slowly changing colors...   \n",
       "80328               1200  Boise&#44 ID&#44 spherical&#44 20 min&#44 10 r...   \n",
       "80329               1200                                       Napa UFO&#44   \n",
       "80330                  5  Saw a five gold lit cicular craft moving fastl...   \n",
       "80331               1020  2 witnesses 2  miles apart&#44 Red &amp; White...   \n",
       "\n",
       "      date posted    latitude  longitude     month  year  month_num  \n",
       "0      2004-04-27  29.8830556  -97.941111  1949-10  1949         10  \n",
       "1      2005-12-16    29.38421  -98.581082  1949-10  1949         10  \n",
       "2      2008-01-21        53.2   -2.916667  1955-10  1955         10  \n",
       "3      2004-01-17  28.9783333  -96.645833  1956-10  1956         10  \n",
       "4      2004-01-22  21.4180556 -157.803611  1960-10  1960         10  \n",
       "...           ...         ...         ...      ...   ...        ...  \n",
       "80327  2013-09-30  36.1658333  -86.784444  2013-09  2013          9  \n",
       "80328  2013-09-30  43.6136111 -116.202500  2013-09  2013          9  \n",
       "80329  2013-09-30  38.2972222 -122.284444  2013-09  2013          9  \n",
       "80330  2013-09-30  38.9011111  -77.265556  2013-09  2013          9  \n",
       "80331  2013-09-30  35.6527778  -97.477778  2013-09  2013          9  \n",
       "\n",
       "[80332 rows x 13 columns]"
      ]
     },
     "execution_count": 11,
     "metadata": {},
     "output_type": "execute_result"
    }
   ],
   "source": [
    "ufo"
   ]
  },
  {
   "cell_type": "code",
   "execution_count": 12,
   "id": "7538519c-f5c9-4387-8af1-d7bafc7ccf08",
   "metadata": {},
   "outputs": [
    {
     "name": "stdout",
     "output_type": "stream",
     "text": [
      "0         US\n",
      "1        NaN\n",
      "2         GB\n",
      "3         US\n",
      "4         US\n",
      "        ... \n",
      "80327     US\n",
      "80328     US\n",
      "80329     US\n",
      "80330     US\n",
      "80331     US\n",
      "Name: country, Length: 80332, dtype: object\n"
     ]
    },
    {
     "data": {
      "text/plain": [
       "80332"
      ]
     },
     "execution_count": 12,
     "metadata": {},
     "output_type": "execute_result"
    }
   ],
   "source": [
    "ufo['country'] = ufo['country'].str.upper() #Capitalizing the country abbreviations for clarity\n",
    "print(ufo['country'])\n",
    "len(ufo['country']) #Checking to see how many observations there are, because here there is a clear NaN value"
   ]
  },
  {
   "cell_type": "code",
   "execution_count": 13,
   "id": "8213b9a3-8efc-4e1b-8723-4a24b07d8d4f",
   "metadata": {},
   "outputs": [
    {
     "data": {
      "text/plain": [
       "70662"
      ]
     },
     "execution_count": 13,
     "metadata": {},
     "output_type": "execute_result"
    }
   ],
   "source": [
    "ufo = ufo.dropna(subset=['country']) #Dropping NaN values from the whole dataset\n",
    "len(ufo) #Checking to see that this went through"
   ]
  },
  {
   "cell_type": "code",
   "execution_count": 14,
   "id": "1facb26e-aaf0-4546-84bc-0bdd04e2a01d",
   "metadata": {},
   "outputs": [
    {
     "data": {
      "text/plain": [
       "datetime              datetime64[ns]\n",
       "city                          object\n",
       "state                         object\n",
       "country                       object\n",
       "shape                         object\n",
       "duration (seconds)            object\n",
       "comments                      object\n",
       "date posted                   object\n",
       "latitude                      object\n",
       "longitude                    float64\n",
       "month                      period[M]\n",
       "year                           int64\n",
       "month_num                      int64\n",
       "dtype: object"
      ]
     },
     "execution_count": 14,
     "metadata": {},
     "output_type": "execute_result"
    }
   ],
   "source": [
    "ufo.dtypes #Checking the datatypes of all the columns, we have lot's of numeric variables and want to be able to use them in EDA"
   ]
  },
  {
   "cell_type": "code",
   "execution_count": 15,
   "id": "ca68aaad-fdc9-4e5d-b989-7fc9e12abb2f",
   "metadata": {},
   "outputs": [
    {
     "name": "stderr",
     "output_type": "stream",
     "text": [
      "C:\\Users\\gates\\AppData\\Local\\Temp\\ipykernel_21388\\3676611118.py:1: SettingWithCopyWarning: \n",
      "A value is trying to be set on a copy of a slice from a DataFrame.\n",
      "Try using .loc[row_indexer,col_indexer] = value instead\n",
      "\n",
      "See the caveats in the documentation: https://pandas.pydata.org/pandas-docs/stable/user_guide/indexing.html#returning-a-view-versus-a-copy\n",
      "  ufo['duration (seconds)'] = pd.to_numeric(ufo['duration (seconds)'], errors='coerce') #Casting the duration (seconds) variable to numeric\n"
     ]
    }
   ],
   "source": [
    "ufo['duration (seconds)'] = pd.to_numeric(ufo['duration (seconds)'], errors='coerce') #Casting the duration (seconds) variable to numeric"
   ]
  },
  {
   "cell_type": "code",
   "execution_count": 16,
   "id": "efe99377-0171-4dfc-8f95-d0339b075bd7",
   "metadata": {},
   "outputs": [
    {
     "name": "stderr",
     "output_type": "stream",
     "text": [
      "C:\\Users\\gates\\AppData\\Local\\Temp\\ipykernel_21388\\1573994818.py:1: SettingWithCopyWarning: \n",
      "A value is trying to be set on a copy of a slice from a DataFrame.\n",
      "Try using .loc[row_indexer,col_indexer] = value instead\n",
      "\n",
      "See the caveats in the documentation: https://pandas.pydata.org/pandas-docs/stable/user_guide/indexing.html#returning-a-view-versus-a-copy\n",
      "  ufo['latitude'] = pd.to_numeric(ufo['latitude'], errors='coerce') #Casting latitude to numeric\n",
      "C:\\Users\\gates\\AppData\\Local\\Temp\\ipykernel_21388\\1573994818.py:2: SettingWithCopyWarning: \n",
      "A value is trying to be set on a copy of a slice from a DataFrame.\n",
      "Try using .loc[row_indexer,col_indexer] = value instead\n",
      "\n",
      "See the caveats in the documentation: https://pandas.pydata.org/pandas-docs/stable/user_guide/indexing.html#returning-a-view-versus-a-copy\n",
      "  ufo['date posted'] = pd.to_datetime(ufo['date posted'], errors='coerce') #Casting date posted to datetime\n"
     ]
    }
   ],
   "source": [
    "ufo['latitude'] = pd.to_numeric(ufo['latitude'], errors='coerce') #Casting latitude to numeric\n",
    "ufo['date posted'] = pd.to_datetime(ufo['date posted'], errors='coerce') #Casting date posted to datetime"
   ]
  },
  {
   "cell_type": "code",
   "execution_count": 17,
   "id": "258bd6e2-3dc0-40c1-892a-6cf5e70f6b3c",
   "metadata": {},
   "outputs": [
    {
     "data": {
      "text/plain": [
       "datetime              datetime64[ns]\n",
       "city                          object\n",
       "state                         object\n",
       "country                       object\n",
       "shape                         object\n",
       "duration (seconds)           float64\n",
       "comments                      object\n",
       "date posted           datetime64[ns]\n",
       "latitude                     float64\n",
       "longitude                    float64\n",
       "month                      period[M]\n",
       "year                           int64\n",
       "month_num                      int64\n",
       "dtype: object"
      ]
     },
     "execution_count": 17,
     "metadata": {},
     "output_type": "execute_result"
    }
   ],
   "source": [
    "ufo.dtypes"
   ]
  },
  {
   "cell_type": "code",
   "execution_count": 18,
   "id": "00a92879-016d-4b4d-905e-9c7ee1cfa9ad",
   "metadata": {},
   "outputs": [
    {
     "name": "stdout",
     "output_type": "stream",
     "text": [
      "datetime                 0\n",
      "city                     0\n",
      "state                 2541\n",
      "country                  0\n",
      "shape                 1661\n",
      "duration (seconds)       2\n",
      "comments                13\n",
      "date posted              0\n",
      "latitude                 0\n",
      "longitude                0\n",
      "month                    0\n",
      "year                     0\n",
      "month_num                0\n",
      "dtype: int64\n"
     ]
    }
   ],
   "source": [
    "print(ufo.isna().sum())"
   ]
  },
  {
   "cell_type": "code",
   "execution_count": 19,
   "id": "0fd31e15-314c-4d96-977d-c10fc3d9b800",
   "metadata": {},
   "outputs": [],
   "source": [
    "ufo = ufo.dropna(subset=['country']) #Dropping nans in country"
   ]
  },
  {
   "cell_type": "code",
   "execution_count": 20,
   "id": "c6cd55f5-12c8-4bee-9adc-2cc9925d4f86",
   "metadata": {},
   "outputs": [],
   "source": [
    "ufo.drop(columns=['comments'], inplace=True) #Dropping comments, since they are unhelpful in statstical analysis"
   ]
  },
  {
   "cell_type": "code",
   "execution_count": 21,
   "id": "59430693-1adb-4770-a6a7-b87c9a4b20c2",
   "metadata": {},
   "outputs": [],
   "source": [
    "ufo.drop(columns=['state'], inplace=True) #Dropping state column"
   ]
  },
  {
   "cell_type": "code",
   "execution_count": 22,
   "id": "13623d13-c818-41c0-a10b-844865558e32",
   "metadata": {},
   "outputs": [
    {
     "data": {
      "text/html": [
       "<div>\n",
       "<style scoped>\n",
       "    .dataframe tbody tr th:only-of-type {\n",
       "        vertical-align: middle;\n",
       "    }\n",
       "\n",
       "    .dataframe tbody tr th {\n",
       "        vertical-align: top;\n",
       "    }\n",
       "\n",
       "    .dataframe thead th {\n",
       "        text-align: right;\n",
       "    }\n",
       "</style>\n",
       "<table border=\"1\" class=\"dataframe\">\n",
       "  <thead>\n",
       "    <tr style=\"text-align: right;\">\n",
       "      <th></th>\n",
       "      <th>datetime</th>\n",
       "      <th>city</th>\n",
       "      <th>country</th>\n",
       "      <th>shape</th>\n",
       "      <th>duration (seconds)</th>\n",
       "      <th>date posted</th>\n",
       "      <th>latitude</th>\n",
       "      <th>longitude</th>\n",
       "      <th>month</th>\n",
       "      <th>year</th>\n",
       "      <th>month_num</th>\n",
       "    </tr>\n",
       "  </thead>\n",
       "  <tbody>\n",
       "    <tr>\n",
       "      <th>0</th>\n",
       "      <td>1949-10-10 20:30:00</td>\n",
       "      <td>san marcos</td>\n",
       "      <td>US</td>\n",
       "      <td>cylinder</td>\n",
       "      <td>2700.0</td>\n",
       "      <td>2004-04-27</td>\n",
       "      <td>29.883056</td>\n",
       "      <td>-97.941111</td>\n",
       "      <td>1949-10</td>\n",
       "      <td>1949</td>\n",
       "      <td>10</td>\n",
       "    </tr>\n",
       "    <tr>\n",
       "      <th>2</th>\n",
       "      <td>1955-10-10 17:00:00</td>\n",
       "      <td>chester (uk/england)</td>\n",
       "      <td>GB</td>\n",
       "      <td>circle</td>\n",
       "      <td>20.0</td>\n",
       "      <td>2008-01-21</td>\n",
       "      <td>53.200000</td>\n",
       "      <td>-2.916667</td>\n",
       "      <td>1955-10</td>\n",
       "      <td>1955</td>\n",
       "      <td>10</td>\n",
       "    </tr>\n",
       "    <tr>\n",
       "      <th>3</th>\n",
       "      <td>1956-10-10 21:00:00</td>\n",
       "      <td>edna</td>\n",
       "      <td>US</td>\n",
       "      <td>circle</td>\n",
       "      <td>20.0</td>\n",
       "      <td>2004-01-17</td>\n",
       "      <td>28.978333</td>\n",
       "      <td>-96.645833</td>\n",
       "      <td>1956-10</td>\n",
       "      <td>1956</td>\n",
       "      <td>10</td>\n",
       "    </tr>\n",
       "    <tr>\n",
       "      <th>4</th>\n",
       "      <td>1960-10-10 20:00:00</td>\n",
       "      <td>kaneohe</td>\n",
       "      <td>US</td>\n",
       "      <td>light</td>\n",
       "      <td>900.0</td>\n",
       "      <td>2004-01-22</td>\n",
       "      <td>21.418056</td>\n",
       "      <td>-157.803611</td>\n",
       "      <td>1960-10</td>\n",
       "      <td>1960</td>\n",
       "      <td>10</td>\n",
       "    </tr>\n",
       "    <tr>\n",
       "      <th>5</th>\n",
       "      <td>1961-10-10 19:00:00</td>\n",
       "      <td>bristol</td>\n",
       "      <td>US</td>\n",
       "      <td>sphere</td>\n",
       "      <td>300.0</td>\n",
       "      <td>2007-04-27</td>\n",
       "      <td>36.595000</td>\n",
       "      <td>-82.188889</td>\n",
       "      <td>1961-10</td>\n",
       "      <td>1961</td>\n",
       "      <td>10</td>\n",
       "    </tr>\n",
       "    <tr>\n",
       "      <th>...</th>\n",
       "      <td>...</td>\n",
       "      <td>...</td>\n",
       "      <td>...</td>\n",
       "      <td>...</td>\n",
       "      <td>...</td>\n",
       "      <td>...</td>\n",
       "      <td>...</td>\n",
       "      <td>...</td>\n",
       "      <td>...</td>\n",
       "      <td>...</td>\n",
       "      <td>...</td>\n",
       "    </tr>\n",
       "    <tr>\n",
       "      <th>80327</th>\n",
       "      <td>2013-09-09 21:15:00</td>\n",
       "      <td>nashville</td>\n",
       "      <td>US</td>\n",
       "      <td>light</td>\n",
       "      <td>600.0</td>\n",
       "      <td>2013-09-30</td>\n",
       "      <td>36.165833</td>\n",
       "      <td>-86.784444</td>\n",
       "      <td>2013-09</td>\n",
       "      <td>2013</td>\n",
       "      <td>9</td>\n",
       "    </tr>\n",
       "    <tr>\n",
       "      <th>80328</th>\n",
       "      <td>2013-09-09 22:00:00</td>\n",
       "      <td>boise</td>\n",
       "      <td>US</td>\n",
       "      <td>circle</td>\n",
       "      <td>1200.0</td>\n",
       "      <td>2013-09-30</td>\n",
       "      <td>43.613611</td>\n",
       "      <td>-116.202500</td>\n",
       "      <td>2013-09</td>\n",
       "      <td>2013</td>\n",
       "      <td>9</td>\n",
       "    </tr>\n",
       "    <tr>\n",
       "      <th>80329</th>\n",
       "      <td>2013-09-09 22:00:00</td>\n",
       "      <td>napa</td>\n",
       "      <td>US</td>\n",
       "      <td>other</td>\n",
       "      <td>1200.0</td>\n",
       "      <td>2013-09-30</td>\n",
       "      <td>38.297222</td>\n",
       "      <td>-122.284444</td>\n",
       "      <td>2013-09</td>\n",
       "      <td>2013</td>\n",
       "      <td>9</td>\n",
       "    </tr>\n",
       "    <tr>\n",
       "      <th>80330</th>\n",
       "      <td>2013-09-09 22:20:00</td>\n",
       "      <td>vienna</td>\n",
       "      <td>US</td>\n",
       "      <td>circle</td>\n",
       "      <td>5.0</td>\n",
       "      <td>2013-09-30</td>\n",
       "      <td>38.901111</td>\n",
       "      <td>-77.265556</td>\n",
       "      <td>2013-09</td>\n",
       "      <td>2013</td>\n",
       "      <td>9</td>\n",
       "    </tr>\n",
       "    <tr>\n",
       "      <th>80331</th>\n",
       "      <td>2013-09-09 23:00:00</td>\n",
       "      <td>edmond</td>\n",
       "      <td>US</td>\n",
       "      <td>cigar</td>\n",
       "      <td>1020.0</td>\n",
       "      <td>2013-09-30</td>\n",
       "      <td>35.652778</td>\n",
       "      <td>-97.477778</td>\n",
       "      <td>2013-09</td>\n",
       "      <td>2013</td>\n",
       "      <td>9</td>\n",
       "    </tr>\n",
       "  </tbody>\n",
       "</table>\n",
       "<p>70662 rows × 11 columns</p>\n",
       "</div>"
      ],
      "text/plain": [
       "                 datetime                  city country     shape  \\\n",
       "0     1949-10-10 20:30:00            san marcos      US  cylinder   \n",
       "2     1955-10-10 17:00:00  chester (uk/england)      GB    circle   \n",
       "3     1956-10-10 21:00:00                  edna      US    circle   \n",
       "4     1960-10-10 20:00:00               kaneohe      US     light   \n",
       "5     1961-10-10 19:00:00               bristol      US    sphere   \n",
       "...                   ...                   ...     ...       ...   \n",
       "80327 2013-09-09 21:15:00             nashville      US     light   \n",
       "80328 2013-09-09 22:00:00                 boise      US    circle   \n",
       "80329 2013-09-09 22:00:00                  napa      US     other   \n",
       "80330 2013-09-09 22:20:00                vienna      US    circle   \n",
       "80331 2013-09-09 23:00:00                edmond      US     cigar   \n",
       "\n",
       "       duration (seconds) date posted   latitude  longitude     month  year  \\\n",
       "0                  2700.0  2004-04-27  29.883056  -97.941111  1949-10  1949   \n",
       "2                    20.0  2008-01-21  53.200000   -2.916667  1955-10  1955   \n",
       "3                    20.0  2004-01-17  28.978333  -96.645833  1956-10  1956   \n",
       "4                   900.0  2004-01-22  21.418056 -157.803611  1960-10  1960   \n",
       "5                   300.0  2007-04-27  36.595000  -82.188889  1961-10  1961   \n",
       "...                   ...         ...        ...         ...      ...   ...   \n",
       "80327               600.0  2013-09-30  36.165833  -86.784444  2013-09  2013   \n",
       "80328              1200.0  2013-09-30  43.613611 -116.202500  2013-09  2013   \n",
       "80329              1200.0  2013-09-30  38.297222 -122.284444  2013-09  2013   \n",
       "80330                 5.0  2013-09-30  38.901111  -77.265556  2013-09  2013   \n",
       "80331              1020.0  2013-09-30  35.652778  -97.477778  2013-09  2013   \n",
       "\n",
       "       month_num  \n",
       "0             10  \n",
       "2             10  \n",
       "3             10  \n",
       "4             10  \n",
       "5             10  \n",
       "...          ...  \n",
       "80327          9  \n",
       "80328          9  \n",
       "80329          9  \n",
       "80330          9  \n",
       "80331          9  \n",
       "\n",
       "[70662 rows x 11 columns]"
      ]
     },
     "execution_count": 22,
     "metadata": {},
     "output_type": "execute_result"
    }
   ],
   "source": [
    "ufo"
   ]
  },
  {
   "cell_type": "code",
   "execution_count": 23,
   "id": "2b1c775c-26ca-42d8-b743-ea7d5ff413bb",
   "metadata": {},
   "outputs": [],
   "source": [
    "ufo = ufo.dropna(subset=['shape','duration (seconds)'])"
   ]
  },
  {
   "cell_type": "code",
   "execution_count": 24,
   "id": "834772ae-600a-479e-bf93-459727708f29",
   "metadata": {},
   "outputs": [
    {
     "name": "stdout",
     "output_type": "stream",
     "text": [
      "datetime              0\n",
      "city                  0\n",
      "country               0\n",
      "shape                 0\n",
      "duration (seconds)    0\n",
      "date posted           0\n",
      "latitude              0\n",
      "longitude             0\n",
      "month                 0\n",
      "year                  0\n",
      "month_num             0\n",
      "dtype: int64\n"
     ]
    }
   ],
   "source": [
    "print(ufo.isna().sum())"
   ]
  },
  {
   "cell_type": "markdown",
   "id": "bfad75a5-1620-4050-a95e-a6bd7e2905c1",
   "metadata": {},
   "source": [
    "Cleanliness: After looking over this dataset, we determined that the data was mostly clean. All that we had to do is drop the NaN values and "
   ]
  },
  {
   "cell_type": "code",
   "execution_count": 26,
   "id": "08e70ce2-c0a0-4595-a808-70b8e89c7360",
   "metadata": {},
   "outputs": [],
   "source": [
    "ufo.to_csv('ufo_clean_data.csv', index=False)"
   ]
  },
  {
   "cell_type": "markdown",
   "id": "c675cdcd-4295-4e49-8667-3cfe94da610d",
   "metadata": {},
   "source": [
    "### Key Variables: ###\n",
    "\n",
    "datetime: This variable marks the exact date and time the UFO was spotted. This variable will be helpful in tracking UFO sightings across the years. We can check to see if there are certain months that are notoriously popular for UFO sightings.\n",
    "\n",
    "city: This marks the location where the UFO was spotted. It gives good and specific information about the event. We could choose a specific city to examine and run analysis on the durations and shapes that were reported there.\n",
    "\n",
    "state: Similar variable to city, and mostly helpful if the sighting was in the United States. We could use state to run more specific and focused analysis on UFO sightings in certain areas.\n",
    "\n",
    "country: Examining UFO sightings by country can be interesting because every country has a different culture and political scheme. As a result, perhaps it's more acceptable to report this sort of thing in some countries versus others. Additionally, maybe one time of UFO has been most commonly seen in a certain country.\n",
    "\n",
    "shape: This variable refers to the aesthetics of the UFO. Perhaps certain areas report a common visual description of a UFO, or on the contrary, maybe not. What are the most commonly reported shapes/visual descriptions of UFOs?\n",
    "\n",
    "duration (seconds): Duration in seconds refers to how long the event took place. This is a great numeric variable that can help us better understand UFO sightings and whether there are common threads between events based on different groups. Perhaps, one region of the world experiences longer UFO sighting events than others.\n",
    "\n",
    "comments: This is not a clean column amongst all of the data, but it is fun and insightful. It gives more in depth decriptions of what went on during the sighting and is a great entertainment to read.\n",
    "\n",
    "date posted: This is the date the specific observation was posted to the rest of the dataset. It won't be very helpful in analysis, but seems like a good descriptive variable to leave.\n",
    "\n",
    "latitude: The latitude at which the UFO was seen.\n",
    "\n",
    "longitude: The longitude at which the UFO was seen\n",
    "\n",
    "**Both latitude and longitude can be examined to determine if there are certain characteristic of UFO sightings that stay consistent in specific stratas of the world"
   ]
  },
  {
   "cell_type": "markdown",
   "id": "6f0637cf-2afe-4feb-88dc-fd54c7efb368",
   "metadata": {},
   "source": [
    "##### Visualization: ##### "
   ]
  },
  {
   "cell_type": "code",
   "execution_count": 29,
   "id": "364cf10f-9037-4110-b865-07f4bdfc0165",
   "metadata": {},
   "outputs": [
    {
     "name": "stderr",
     "output_type": "stream",
     "text": [
      "C:\\Users\\gates\\AppData\\Local\\Temp\\ipykernel_21388\\283207495.py:1: SettingWithCopyWarning: \n",
      "A value is trying to be set on a copy of a slice from a DataFrame.\n",
      "Try using .loc[row_indexer,col_indexer] = value instead\n",
      "\n",
      "See the caveats in the documentation: https://pandas.pydata.org/pandas-docs/stable/user_guide/indexing.html#returning-a-view-versus-a-copy\n",
      "  ufo['log_duration'] = np.log1p(ufo['duration (seconds)']) #Running our duration in seconds data through the log function and creating a new column of log of the duration in UFO\n"
     ]
    },
    {
     "data": {
      "image/png": "[encoded data removed]",
      "text/plain": [
       "<Figure size 640x480 with 1 Axes>"
      ]
     },
     "metadata": {},
     "output_type": "display_data"
    }
   ],
   "source": [
    "ufo['log_duration'] = np.log1p(ufo['duration (seconds)']) #Running our duration in seconds data through the log function and creating a new column of log of the duration in UFO\n",
    "sns.boxplot(x='log_duration', data=ufo, color='green') #Creating a boxplot to view the total distribution of the duration of these sighting events\n",
    "plt.title(\"Box Plot of UFO Sightings (Log Scale)\")\n",
    "plt.show()"
   ]
  },
  {
   "cell_type": "markdown",
   "id": "c70734d5-d606-4ec8-a053-42d22fb35cf5",
   "metadata": {},
   "source": []
  },
  {
   "cell_type": "code",
   "execution_count": 31,
   "id": "ed90f887-85a4-4650-8bdc-bfdaadfdc55e",
   "metadata": {},
   "outputs": [
    {
     "data": {
      "text/plain": [
       "Text(0.5, 1.0, 'Kernel Density Plot of Duration by Country (Log Scale)')"
      ]
     },
     "execution_count": 31,
     "metadata": {},
     "output_type": "execute_result"
    },
    {
     "data": {
      "image/png": "[encoded data removed]",
      "text/plain": [
       "<Figure size 640x480 with 1 Axes>"
      ]
     },
     "metadata": {},
     "output_type": "display_data"
    }
   ],
   "source": [
    "sns.kdeplot(data=ufo, x='log_duration', hue='country',common_norm=False)#Kernel density plot examining the log of the duration by country, normalized\n",
    "plt.title('Kernel Density Plot of Duration by Country (Log Scale)')"
   ]
  },
  {
   "cell_type": "markdown",
   "id": "fe9ee032-64db-4de8-84f1-1a00f470f868",
   "metadata": {},
   "source": []
  },
  {
   "cell_type": "code",
   "execution_count": 33,
   "id": "84f79867-5191-4dbf-9fbe-0b34840c8875",
   "metadata": {},
   "outputs": [
    {
     "data": {
      "image/png": "[encoded data removed]",
      "text/plain": [
       "<Figure size 1000x600 with 1 Axes>"
      ]
     },
     "metadata": {},
     "output_type": "display_data"
    }
   ],
   "source": [
    "plt.figure(figsize=(10,6)) #Adjusting figure size\n",
    "sns.countplot(data=ufo, x='shape', hue='shape', order=ufo['shape'].value_counts().index, palette=\"viridis\", legend=False) #Creating a countplot to understand the reported shapes of the UFO and frquencies of the reports across shape categories\n",
    "plt.xticks(rotation=45) #Rotating the writing so it doesn't clash and become illegible\n",
    "plt.title('Counts of the UFO Shapes Reported')\n",
    "plt.show()"
   ]
  },
  {
   "cell_type": "markdown",
   "id": "9d3eed11-273d-406c-ab81-467b52df067b",
   "metadata": {},
   "source": []
  },
  {
   "cell_type": "code",
   "execution_count": 35,
   "id": "fad55e9a-4038-4d69-bea2-5f3c9c457c04",
   "metadata": {},
   "outputs": [
    {
     "name": "stderr",
     "output_type": "stream",
     "text": [
      "C:\\Users\\gates\\AppData\\Local\\Temp\\ipykernel_21388\\2099353606.py:2: SettingWithCopyWarning: \n",
      "A value is trying to be set on a copy of a slice from a DataFrame.\n",
      "Try using .loc[row_indexer,col_indexer] = value instead\n",
      "\n",
      "See the caveats in the documentation: https://pandas.pydata.org/pandas-docs/stable/user_guide/indexing.html#returning-a-view-versus-a-copy\n",
      "  ufo['date'] = ufo['datetime'].dt.date #Extracting the date portion of datetime\n"
     ]
    },
    {
     "data": {
      "image/png": "[encoded data removed]",
      "text/plain": [
       "<Figure size 1000x600 with 1 Axes>"
      ]
     },
     "metadata": {},
     "output_type": "display_data"
    }
   ],
   "source": [
    "#Timeseries of number of UFO sightings in 2014\n",
    "ufo['date'] = ufo['datetime'].dt.date #Extracting the date portion of datetime\n",
    "ufo_counts= ufo.groupby('date').size().reset_index(name='sightings') #Grouping by date and findings the number of sightings\n",
    "ufo_counts['date'] = pd.to_datetime(ufo_counts['date']) #Recasting to datetime \n",
    "ufo_counts_2013 = ufo_counts[ufo_counts['date'].dt.year == 2013] #Selecting the UFO sightings reported in 2013\n",
    "plt.figure(figsize=(10, 6)) \n",
    "sns.lineplot(data=ufo_counts_2013, x='date', y='sightings') #Graphing the plot on number of sightings\n",
    "plt.xticks(rotation=45)\n",
    "plt.show()"
   ]
  },
  {
   "cell_type": "code",
   "execution_count": 36,
   "id": "da5c578c-1691-44b5-ba94-11b9d0f16404",
   "metadata": {},
   "outputs": [
    {
     "name": "stdout",
     "output_type": "stream",
     "text": [
      "date\n",
      "2010-07-04    185\n",
      "2012-07-04    167\n",
      "1999-11-16    159\n",
      "2013-07-04    158\n",
      "2011-07-04    131\n",
      "2009-09-19    110\n",
      "2014-01-01     89\n",
      "2013-12-31     81\n",
      "2004-10-31     80\n",
      "2009-07-04     78\n",
      "2013-07-06     73\n",
      "2013-01-01     64\n",
      "2012-01-01     63\n",
      "1997-03-13     62\n",
      "2012-12-31     61\n",
      "Name: count, dtype: int64\n"
     ]
    }
   ],
   "source": [
    "top_number = ufo['date'].value_counts().head(15) #dates where most sightings were recorded\n",
    "print(top_number)"
   ]
  },
  {
   "cell_type": "code",
   "execution_count": 37,
   "id": "7f2c7884-adcb-47ea-abb9-5d5ef9196374",
   "metadata": {},
   "outputs": [
    {
     "name": "stdout",
     "output_type": "stream",
     "text": [
      "year\n",
      "2012    6593\n",
      "2013    6325\n",
      "2011    4525\n",
      "2008    4259\n",
      "2009    3959\n",
      "2010    3774\n",
      "2007    3760\n",
      "2004    3623\n",
      "2005    3537\n",
      "2003    3391\n",
      "2006    3201\n",
      "2002    2738\n",
      "2001    2699\n",
      "2000    2348\n",
      "1999    2342\n",
      "Name: count, dtype: int64\n"
     ]
    }
   ],
   "source": [
    "top_number = ufo['year'].value_counts().head(15) #years where most sightings were recorded\n",
    "print(top_number)"
   ]
  },
  {
   "cell_type": "code",
   "execution_count": 38,
   "id": "0a229895-a821-424c-bab7-89f4721f453f",
   "metadata": {},
   "outputs": [
    {
     "name": "stderr",
     "output_type": "stream",
     "text": [
      "C:\\Users\\gates\\AppData\\Local\\Temp\\ipykernel_21388\\3175211868.py:2: SettingWithCopyWarning: \n",
      "A value is trying to be set on a copy of a slice from a DataFrame.\n",
      "Try using .loc[row_indexer,col_indexer] = value instead\n",
      "\n",
      "See the caveats in the documentation: https://pandas.pydata.org/pandas-docs/stable/user_guide/indexing.html#returning-a-view-versus-a-copy\n",
      "  ufo['year'] = ufo['datetime'].dt.year #Extracting year portion of datetime\n"
     ]
    },
    {
     "data": {
      "text/plain": [
       "Text(0, 0.5, 'Duration (seconds)')"
      ]
     },
     "execution_count": 38,
     "metadata": {},
     "output_type": "execute_result"
    },
    {
     "data": {
      "image/png": "[encoded data removed]",
      "text/plain": [
       "<Figure size 640x480 with 1 Axes>"
      ]
     },
     "metadata": {},
     "output_type": "display_data"
    }
   ],
   "source": [
    "#Creating a violine plot for the duration of the UFO sightings in 1960 compared to 2000\n",
    "ufo['year'] = ufo['datetime'].dt.year #Extracting year portion of datetime\n",
    "filt_year = ufo[ufo['year'].isin([1960, 2000])] #Filtering dateframe to find only observations in 1960 and 2000\n",
    "filt_year.loc[:, 'log_duration'] = np.log1p(filt_year['duration (seconds)']) #Running the duration through the log function \n",
    "sns.violinplot(x='year', y='log_duration', data=filt_year, color='purple') #Graphing the violin plot\n",
    "plt.title('Comparison of UFO Sightings Duration 1960 vs. 2000, Log Scaled') \n",
    "plt.xlabel('Year')\n",
    "plt.ylabel('Duration (seconds)')"
   ]
  },
  {
   "cell_type": "code",
   "execution_count": 39,
   "id": "323510c4-cb70-4cc2-b2dc-4a478d990582",
   "metadata": {},
   "outputs": [
    {
     "data": {
      "text/html": [
       "<div>\n",
       "<style scoped>\n",
       "    .dataframe tbody tr th:only-of-type {\n",
       "        vertical-align: middle;\n",
       "    }\n",
       "\n",
       "    .dataframe tbody tr th {\n",
       "        vertical-align: top;\n",
       "    }\n",
       "\n",
       "    .dataframe thead th {\n",
       "        text-align: right;\n",
       "    }\n",
       "</style>\n",
       "<table border=\"1\" class=\"dataframe\">\n",
       "  <thead>\n",
       "    <tr style=\"text-align: right;\">\n",
       "      <th></th>\n",
       "      <th>datetime</th>\n",
       "      <th>city</th>\n",
       "      <th>country</th>\n",
       "      <th>shape</th>\n",
       "      <th>duration (seconds)</th>\n",
       "      <th>date posted</th>\n",
       "      <th>latitude</th>\n",
       "      <th>longitude</th>\n",
       "      <th>month</th>\n",
       "      <th>year</th>\n",
       "      <th>month_num</th>\n",
       "      <th>log_duration</th>\n",
       "      <th>date</th>\n",
       "    </tr>\n",
       "  </thead>\n",
       "  <tbody>\n",
       "    <tr>\n",
       "      <th>0</th>\n",
       "      <td>1949-10-10 20:30:00</td>\n",
       "      <td>san marcos</td>\n",
       "      <td>US</td>\n",
       "      <td>cylinder</td>\n",
       "      <td>2700.0</td>\n",
       "      <td>2004-04-27</td>\n",
       "      <td>29.883056</td>\n",
       "      <td>-97.941111</td>\n",
       "      <td>1949-10</td>\n",
       "      <td>1949</td>\n",
       "      <td>10</td>\n",
       "      <td>7.901377</td>\n",
       "      <td>1949-10-10</td>\n",
       "    </tr>\n",
       "    <tr>\n",
       "      <th>2</th>\n",
       "      <td>1955-10-10 17:00:00</td>\n",
       "      <td>chester (uk/england)</td>\n",
       "      <td>GB</td>\n",
       "      <td>circle</td>\n",
       "      <td>20.0</td>\n",
       "      <td>2008-01-21</td>\n",
       "      <td>53.200000</td>\n",
       "      <td>-2.916667</td>\n",
       "      <td>1955-10</td>\n",
       "      <td>1955</td>\n",
       "      <td>10</td>\n",
       "      <td>3.044522</td>\n",
       "      <td>1955-10-10</td>\n",
       "    </tr>\n",
       "    <tr>\n",
       "      <th>3</th>\n",
       "      <td>1956-10-10 21:00:00</td>\n",
       "      <td>edna</td>\n",
       "      <td>US</td>\n",
       "      <td>circle</td>\n",
       "      <td>20.0</td>\n",
       "      <td>2004-01-17</td>\n",
       "      <td>28.978333</td>\n",
       "      <td>-96.645833</td>\n",
       "      <td>1956-10</td>\n",
       "      <td>1956</td>\n",
       "      <td>10</td>\n",
       "      <td>3.044522</td>\n",
       "      <td>1956-10-10</td>\n",
       "    </tr>\n",
       "    <tr>\n",
       "      <th>4</th>\n",
       "      <td>1960-10-10 20:00:00</td>\n",
       "      <td>kaneohe</td>\n",
       "      <td>US</td>\n",
       "      <td>light</td>\n",
       "      <td>900.0</td>\n",
       "      <td>2004-01-22</td>\n",
       "      <td>21.418056</td>\n",
       "      <td>-157.803611</td>\n",
       "      <td>1960-10</td>\n",
       "      <td>1960</td>\n",
       "      <td>10</td>\n",
       "      <td>6.803505</td>\n",
       "      <td>1960-10-10</td>\n",
       "    </tr>\n",
       "    <tr>\n",
       "      <th>5</th>\n",
       "      <td>1961-10-10 19:00:00</td>\n",
       "      <td>bristol</td>\n",
       "      <td>US</td>\n",
       "      <td>sphere</td>\n",
       "      <td>300.0</td>\n",
       "      <td>2007-04-27</td>\n",
       "      <td>36.595000</td>\n",
       "      <td>-82.188889</td>\n",
       "      <td>1961-10</td>\n",
       "      <td>1961</td>\n",
       "      <td>10</td>\n",
       "      <td>5.707110</td>\n",
       "      <td>1961-10-10</td>\n",
       "    </tr>\n",
       "  </tbody>\n",
       "</table>\n",
       "</div>"
      ],
      "text/plain": [
       "             datetime                  city country     shape  \\\n",
       "0 1949-10-10 20:30:00            san marcos      US  cylinder   \n",
       "2 1955-10-10 17:00:00  chester (uk/england)      GB    circle   \n",
       "3 1956-10-10 21:00:00                  edna      US    circle   \n",
       "4 1960-10-10 20:00:00               kaneohe      US     light   \n",
       "5 1961-10-10 19:00:00               bristol      US    sphere   \n",
       "\n",
       "   duration (seconds) date posted   latitude  longitude     month  year  \\\n",
       "0              2700.0  2004-04-27  29.883056  -97.941111  1949-10  1949   \n",
       "2                20.0  2008-01-21  53.200000   -2.916667  1955-10  1955   \n",
       "3                20.0  2004-01-17  28.978333  -96.645833  1956-10  1956   \n",
       "4               900.0  2004-01-22  21.418056 -157.803611  1960-10  1960   \n",
       "5               300.0  2007-04-27  36.595000  -82.188889  1961-10  1961   \n",
       "\n",
       "   month_num  log_duration        date  \n",
       "0         10      7.901377  1949-10-10  \n",
       "2         10      3.044522  1955-10-10  \n",
       "3         10      3.044522  1956-10-10  \n",
       "4         10      6.803505  1960-10-10  \n",
       "5         10      5.707110  1961-10-10  "
      ]
     },
     "execution_count": 39,
     "metadata": {},
     "output_type": "execute_result"
    }
   ],
   "source": [
    "ufo.head() #checking date and year columns added"
   ]
  },
  {
   "cell_type": "code",
   "execution_count": 40,
   "id": "780fbb53-6c1a-45e8-bee4-2ac6bbe9c7be",
   "metadata": {},
   "outputs": [
    {
     "data": {
      "text/html": [
       "<div>\n",
       "<style scoped>\n",
       "    .dataframe tbody tr th:only-of-type {\n",
       "        vertical-align: middle;\n",
       "    }\n",
       "\n",
       "    .dataframe tbody tr th {\n",
       "        vertical-align: top;\n",
       "    }\n",
       "\n",
       "    .dataframe thead th {\n",
       "        text-align: right;\n",
       "    }\n",
       "</style>\n",
       "<table border=\"1\" class=\"dataframe\">\n",
       "  <thead>\n",
       "    <tr style=\"text-align: right;\">\n",
       "      <th>shape</th>\n",
       "      <th>changed</th>\n",
       "      <th>changing</th>\n",
       "      <th>chevron</th>\n",
       "      <th>cigar</th>\n",
       "      <th>circle</th>\n",
       "      <th>cone</th>\n",
       "      <th>crescent</th>\n",
       "      <th>cross</th>\n",
       "      <th>cylinder</th>\n",
       "      <th>delta</th>\n",
       "      <th>...</th>\n",
       "      <th>light</th>\n",
       "      <th>other</th>\n",
       "      <th>oval</th>\n",
       "      <th>pyramid</th>\n",
       "      <th>rectangle</th>\n",
       "      <th>round</th>\n",
       "      <th>sphere</th>\n",
       "      <th>teardrop</th>\n",
       "      <th>triangle</th>\n",
       "      <th>unknown</th>\n",
       "    </tr>\n",
       "    <tr>\n",
       "      <th>country</th>\n",
       "      <th></th>\n",
       "      <th></th>\n",
       "      <th></th>\n",
       "      <th></th>\n",
       "      <th></th>\n",
       "      <th></th>\n",
       "      <th></th>\n",
       "      <th></th>\n",
       "      <th></th>\n",
       "      <th></th>\n",
       "      <th></th>\n",
       "      <th></th>\n",
       "      <th></th>\n",
       "      <th></th>\n",
       "      <th></th>\n",
       "      <th></th>\n",
       "      <th></th>\n",
       "      <th></th>\n",
       "      <th></th>\n",
       "      <th></th>\n",
       "      <th></th>\n",
       "    </tr>\n",
       "  </thead>\n",
       "  <tbody>\n",
       "    <tr>\n",
       "      <th>AU</th>\n",
       "      <td>0.000000</td>\n",
       "      <td>0.017078</td>\n",
       "      <td>0.005693</td>\n",
       "      <td>0.028463</td>\n",
       "      <td>0.117647</td>\n",
       "      <td>0.011385</td>\n",
       "      <td>0.000000</td>\n",
       "      <td>0.001898</td>\n",
       "      <td>0.017078</td>\n",
       "      <td>0.000000</td>\n",
       "      <td>...</td>\n",
       "      <td>0.225806</td>\n",
       "      <td>0.075901</td>\n",
       "      <td>0.056926</td>\n",
       "      <td>0.000000</td>\n",
       "      <td>0.018975</td>\n",
       "      <td>0.000000</td>\n",
       "      <td>0.028463</td>\n",
       "      <td>0.018975</td>\n",
       "      <td>0.081594</td>\n",
       "      <td>0.047438</td>\n",
       "    </tr>\n",
       "    <tr>\n",
       "      <th>CA</th>\n",
       "      <td>0.000000</td>\n",
       "      <td>0.023350</td>\n",
       "      <td>0.012183</td>\n",
       "      <td>0.025042</td>\n",
       "      <td>0.096108</td>\n",
       "      <td>0.003384</td>\n",
       "      <td>0.000000</td>\n",
       "      <td>0.003046</td>\n",
       "      <td>0.017936</td>\n",
       "      <td>0.000338</td>\n",
       "      <td>...</td>\n",
       "      <td>0.221658</td>\n",
       "      <td>0.081557</td>\n",
       "      <td>0.043993</td>\n",
       "      <td>0.000000</td>\n",
       "      <td>0.015905</td>\n",
       "      <td>0.000000</td>\n",
       "      <td>0.069374</td>\n",
       "      <td>0.007445</td>\n",
       "      <td>0.090694</td>\n",
       "      <td>0.070051</td>\n",
       "    </tr>\n",
       "    <tr>\n",
       "      <th>DE</th>\n",
       "      <td>0.000000</td>\n",
       "      <td>0.019417</td>\n",
       "      <td>0.009709</td>\n",
       "      <td>0.029126</td>\n",
       "      <td>0.097087</td>\n",
       "      <td>0.000000</td>\n",
       "      <td>0.000000</td>\n",
       "      <td>0.000000</td>\n",
       "      <td>0.029126</td>\n",
       "      <td>0.000000</td>\n",
       "      <td>...</td>\n",
       "      <td>0.194175</td>\n",
       "      <td>0.087379</td>\n",
       "      <td>0.067961</td>\n",
       "      <td>0.000000</td>\n",
       "      <td>0.009709</td>\n",
       "      <td>0.000000</td>\n",
       "      <td>0.067961</td>\n",
       "      <td>0.000000</td>\n",
       "      <td>0.087379</td>\n",
       "      <td>0.077670</td>\n",
       "    </tr>\n",
       "    <tr>\n",
       "      <th>GB</th>\n",
       "      <td>0.000000</td>\n",
       "      <td>0.024798</td>\n",
       "      <td>0.004313</td>\n",
       "      <td>0.032345</td>\n",
       "      <td>0.130997</td>\n",
       "      <td>0.007008</td>\n",
       "      <td>0.000000</td>\n",
       "      <td>0.005391</td>\n",
       "      <td>0.016173</td>\n",
       "      <td>0.000000</td>\n",
       "      <td>...</td>\n",
       "      <td>0.194609</td>\n",
       "      <td>0.071698</td>\n",
       "      <td>0.046361</td>\n",
       "      <td>0.000000</td>\n",
       "      <td>0.015633</td>\n",
       "      <td>0.000000</td>\n",
       "      <td>0.085175</td>\n",
       "      <td>0.020485</td>\n",
       "      <td>0.091105</td>\n",
       "      <td>0.049596</td>\n",
       "    </tr>\n",
       "    <tr>\n",
       "      <th>US</th>\n",
       "      <td>0.000016</td>\n",
       "      <td>0.024921</td>\n",
       "      <td>0.012822</td>\n",
       "      <td>0.025849</td>\n",
       "      <td>0.096254</td>\n",
       "      <td>0.003886</td>\n",
       "      <td>0.000016</td>\n",
       "      <td>0.002958</td>\n",
       "      <td>0.016158</td>\n",
       "      <td>0.000094</td>\n",
       "      <td>...</td>\n",
       "      <td>0.211970</td>\n",
       "      <td>0.070263</td>\n",
       "      <td>0.047702</td>\n",
       "      <td>0.000016</td>\n",
       "      <td>0.016834</td>\n",
       "      <td>0.000031</td>\n",
       "      <td>0.068391</td>\n",
       "      <td>0.009314</td>\n",
       "      <td>0.103035</td>\n",
       "      <td>0.071852</td>\n",
       "    </tr>\n",
       "  </tbody>\n",
       "</table>\n",
       "<p>5 rows × 28 columns</p>\n",
       "</div>"
      ],
      "text/plain": [
       "shape     changed  changing   chevron     cigar    circle      cone  crescent  \\\n",
       "country                                                                         \n",
       "AU       0.000000  0.017078  0.005693  0.028463  0.117647  0.011385  0.000000   \n",
       "CA       0.000000  0.023350  0.012183  0.025042  0.096108  0.003384  0.000000   \n",
       "DE       0.000000  0.019417  0.009709  0.029126  0.097087  0.000000  0.000000   \n",
       "GB       0.000000  0.024798  0.004313  0.032345  0.130997  0.007008  0.000000   \n",
       "US       0.000016  0.024921  0.012822  0.025849  0.096254  0.003886  0.000016   \n",
       "\n",
       "shape       cross  cylinder     delta  ...     light     other      oval  \\\n",
       "country                                ...                                 \n",
       "AU       0.001898  0.017078  0.000000  ...  0.225806  0.075901  0.056926   \n",
       "CA       0.003046  0.017936  0.000338  ...  0.221658  0.081557  0.043993   \n",
       "DE       0.000000  0.029126  0.000000  ...  0.194175  0.087379  0.067961   \n",
       "GB       0.005391  0.016173  0.000000  ...  0.194609  0.071698  0.046361   \n",
       "US       0.002958  0.016158  0.000094  ...  0.211970  0.070263  0.047702   \n",
       "\n",
       "shape     pyramid  rectangle     round    sphere  teardrop  triangle   unknown  \n",
       "country                                                                         \n",
       "AU       0.000000   0.018975  0.000000  0.028463  0.018975  0.081594  0.047438  \n",
       "CA       0.000000   0.015905  0.000000  0.069374  0.007445  0.090694  0.070051  \n",
       "DE       0.000000   0.009709  0.000000  0.067961  0.000000  0.087379  0.077670  \n",
       "GB       0.000000   0.015633  0.000000  0.085175  0.020485  0.091105  0.049596  \n",
       "US       0.000016   0.016834  0.000031  0.068391  0.009314  0.103035  0.071852  \n",
       "\n",
       "[5 rows x 28 columns]"
      ]
     },
     "execution_count": 40,
     "metadata": {},
     "output_type": "execute_result"
    }
   ],
   "source": [
    "pd.crosstab(ufo['country'],ufo['shape'], normalize='index') #Cross tabulating the country of observation with shape observed, values normalized on rows in order to account for varying numbers of sightings"
   ]
  },
  {
   "cell_type": "code",
   "execution_count": null,
   "id": "e167aa31-bc78-48ea-9ca7-9c87a9b42d87",
   "metadata": {},
   "outputs": [],
   "source": [
    "pd.crosstab(ufo['country'],ufo['year'], normalize='index') #sightings by country and year"
   ]
  },
  {
   "cell_type": "markdown",
   "id": "6eb22f84-9c7a-40fb-bf3c-dddb4b1ec061",
   "metadata": {},
   "source": [
    "### Our Data ###\n",
    "This data is a compilation of 80,000 global UFO sightings. It includes key variables such as datetime, shape, and location that we can examine to discover potential patterns. Typically, we wouldn't consider something like UFO sightings to have a common thread, but through EDA and targeted investigation, we may be able to uncover some unforseen correlations. We are specifically interested in how UFO sightings vary across locations and time. Are there certain times or dates when it is more common to \"spot\" a UFO? Are there certain locations? We want to determine if there is commonality to these claims. Perhaps we can find consistency that proves these sightings to be more than flukes! Unfortunately, here we are faced with only a few categories that characterize each event. As a result, we expected to face some deadends when it comes to analysis. Not everything will yield a pattern, but we are hoping that if we are smart with the regressions and classifications we choose to conduct, we will come to some sort of conclusions regarding the commonalities behind UFO sightings. Perhaps, certain countries experience longer UFO events or report a certain shape more often. From there, we also have the potential to draw on other databases for comparison. For example, a database of popular dates for fireworks show may relate to dates when a lot of UFOs are spotted. That comparison may build on our potential for more patterns and correlations. "
   ]
  }
 ],
 "metadata": {
  "kernelspec": {
   "display_name": "Python 3 (ipykernel)",
   "language": "python",
   "name": "python3"
  },
  "language_info": {
   "codemirror_mode": {
    "name": "ipython",
    "version": 3
   },
   "file_extension": ".py",
   "mimetype": "text/x-python",
   "name": "python",
   "nbconvert_exporter": "python",
   "pygments_lexer": "ipython3",
   "version": "3.12.4"
  }
 },
 "nbformat": 4,
 "nbformat_minor": 5
}
